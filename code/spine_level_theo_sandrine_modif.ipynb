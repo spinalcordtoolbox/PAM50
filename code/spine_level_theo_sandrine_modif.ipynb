{
 "cells": [
  {
   "cell_type": "code",
   "execution_count": 1,
   "id": "3c65eaa5-1b37-4317-9657-e52d4a8bc8a0",
   "metadata": {},
   "outputs": [
    {
     "name": "stdout",
     "output_type": "stream",
     "text": [
      "python version: 3.8.15 | packaged by conda-forge | (default, Nov 22 2022, 08:49:06) \n",
      "[Clang 14.0.6 ]\n",
      "numpy version: 1.23.5\n",
      "pandas version: 1.5.3\n",
      "nibabel version: 5.1.0\n"
     ]
    },
    {
     "data": {
      "text/html": [
       "<div>\n",
       "<style scoped>\n",
       "    .dataframe tbody tr th:only-of-type {\n",
       "        vertical-align: middle;\n",
       "    }\n",
       "\n",
       "    .dataframe tbody tr th {\n",
       "        vertical-align: top;\n",
       "    }\n",
       "\n",
       "    .dataframe thead th {\n",
       "        text-align: right;\n",
       "    }\n",
       "</style>\n",
       "<table border=\"1\" class=\"dataframe\">\n",
       "  <thead>\n",
       "    <tr style=\"text-align: right;\">\n",
       "      <th></th>\n",
       "      <th>Segment</th>\n",
       "      <th>MEAN</th>\n",
       "      <th>STD</th>\n",
       "      <th>Mesure</th>\n",
       "    </tr>\n",
       "  </thead>\n",
       "  <tbody>\n",
       "    <tr>\n",
       "      <th>0</th>\n",
       "      <td>C2</td>\n",
       "      <td>11.3</td>\n",
       "      <td>1.5</td>\n",
       "      <td>DREZ length</td>\n",
       "    </tr>\n",
       "    <tr>\n",
       "      <th>1</th>\n",
       "      <td>C2</td>\n",
       "      <td>12.6</td>\n",
       "      <td>0.9</td>\n",
       "      <td>Seg.L at dorsal CE</td>\n",
       "    </tr>\n",
       "    <tr>\n",
       "      <th>2</th>\n",
       "      <td>C2</td>\n",
       "      <td>13.1</td>\n",
       "      <td>1.0</td>\n",
       "      <td>Seg.L at BE</td>\n",
       "    </tr>\n",
       "    <tr>\n",
       "      <th>3</th>\n",
       "      <td>C2</td>\n",
       "      <td>24.4</td>\n",
       "      <td>0.8</td>\n",
       "      <td>Inf.Art facet to CR distance</td>\n",
       "    </tr>\n",
       "    <tr>\n",
       "      <th>4</th>\n",
       "      <td>C2</td>\n",
       "      <td>15.5</td>\n",
       "      <td>4.2</td>\n",
       "      <td>IF to RR distance</td>\n",
       "    </tr>\n",
       "  </tbody>\n",
       "</table>\n",
       "</div>"
      ],
      "text/plain": [
       "  Segment  MEAN  STD                        Mesure\n",
       "0      C2  11.3  1.5                   DREZ length\n",
       "1      C2  12.6  0.9            Seg.L at dorsal CE\n",
       "2      C2  13.1  1.0                   Seg.L at BE\n",
       "3      C2  24.4  0.8  Inf.Art facet to CR distance\n",
       "4      C2  15.5  4.2             IF to RR distance"
      ]
     },
     "execution_count": 1,
     "metadata": {},
     "output_type": "execute_result"
    }
   ],
   "source": [
    "import numpy as np\n",
    "import pandas as pd\n",
    "import nibabel as nib\n",
    "import matplotlib.pyplot as plt\n",
    "import scipy\n",
    "import math\n",
    "import os\n",
    "import sys\n",
    "print(f'python version: {sys.version}')\n",
    "print(f'numpy version: {np.__version__}')\n",
    "print(f'pandas version: {pd.__version__}')\n",
    "print(f'nibabel version: {nib.__version__}')\n",
    "\n",
    "\n",
    "NEAR_ZERO_THRESHOLD = 1e-6\n",
    "def int2seg(intensity):\n",
    "    if intensity <= 7:\n",
    "        return f\"C{intensity}\"\n",
    "    elif intensity >7 and intensity <= 19:\n",
    "        return f\"T{intensity-7}\"\n",
    "    else:\n",
    "        return f\"L{intensity-19}\"\n",
    "    \n",
    "df = pd.read_csv(\"mendez_df.csv\")\n",
    "df.head()"
   ]
  },
  {
   "cell_type": "code",
   "execution_count": 2,
   "id": "21021ea9-ec84-4b84-b534-3012a4681a78",
   "metadata": {},
   "outputs": [
    {
     "name": "stdout",
     "output_type": "stream",
     "text": [
      "../Code/spinalcordtoolbox/data/PAM50/template/\n"
     ]
    }
   ],
   "source": [
    "sct_dir = '../Code/spinalcordtoolbox/data/PAM50/template/'\n",
    "print(sct_dir)"
   ]
  },
  {
   "cell_type": "code",
   "execution_count": 3,
   "id": "88c33b8a-3ac6-4275-b939-376d3e2859a7",
   "metadata": {},
   "outputs": [
    {
     "name": "stdout",
     "output_type": "stream",
     "text": [
      "[37 40 41 41 42 42 42 42] [932 731 691 898 765 797 830 865]\n"
     ]
    }
   ],
   "source": [
    "# Import foramen data\n",
    "#foramen_level = nib.load('PAM50_intervertebral_foramen_sandrine.nii.gz') # TODO add path\n",
    "foramen_level = nib.load('test_foramen.nii.gz')\n",
    "\n",
    "x_f,y_f,z_f = np.where(foramen_level.get_fdata()>NEAR_ZERO_THRESHOLD)\n",
    "print(x_f, z_f)"
   ]
  },
  {
   "cell_type": "code",
   "execution_count": 4,
   "id": "97dfb430-080d-4421-8067-aae2c2755cfd",
   "metadata": {},
   "outputs": [],
   "source": [
    "# Import Centerline data\n",
    "center = nib.load(os.path.join(sct_dir, 'PAM50_centerline.nii.gz'))\n",
    "x_c, y_c, z_c = np.where(center.get_fdata() > NEAR_ZERO_THRESHOLD)\n",
    "coord_ctl = np.where(center.get_fdata() > NEAR_ZERO_THRESHOLD)\n",
    "\n",
    "\n",
    "# Import Cord data\n",
    "PATH = os.path.join(sct_dir, 'PAM50_cord.nii.gz')\n",
    "cord = nib.load(PATH)\n",
    "p50_mask = cord.get_fdata()\n",
    "x_cord, y_cord, z_cord = np.where(p50_mask>0)"
   ]
  },
  {
   "cell_type": "code",
   "execution_count": 5,
   "id": "d814fd9b",
   "metadata": {},
   "outputs": [
    {
     "name": "stdout",
     "output_type": "stream",
     "text": [
      "Level 2\n",
      "Rostral 15.5 15.477545024970853 957 932\n",
      "Caudal 10.6 10.656190688984504 943 932\n",
      "Level 8\n",
      "Rostral 28.1 28.25172561101357 781 731\n",
      "Caudal 17.0 17.151093259614676 753 731\n",
      "Level 9\n",
      "Rostral 33.4 33.316465899011554 753 691\n",
      "Caudal 22.0 22.163864735194537 728 691\n",
      "Level 3\n",
      "Rostral 16.299999999999997 16.33500535659539 916 898\n",
      "Caudal 10.8 13.632035798075062 898 898\n",
      "Level 7\n",
      "Rostral 20.1 20.160615069982363 796 765\n",
      "Caudal 11.8 12.891873409245067 765 765\n",
      "Level 6\n",
      "Rostral 17.2 17.066938799913707 819 797\n",
      "Caudal 10.3 13.049153229232921 797 797\n",
      "Level 5\n",
      "Rostral 15.1 14.99073380458742 845 830\n",
      "Caudal 9.3 12.979680273411978 830 830\n",
      "Level 4\n",
      "Rostral 18.1 18.020047169749585 890 865\n",
      "Caudal 10.1 12.979680273411978 865 865\n"
     ]
    }
   ],
   "source": [
    "# Take smallest distance bewtenn SC centerline (shifted by average diameter at dorsal rootlet entry and intervertebral foramen) (Sandrine)\n",
    "\n",
    "len_level = {}\n",
    "z_ref =  np.array(range(min(z_c), max(z_c) + 1))\n",
    "z_c = z_ref\n",
    "for i in range(len(x_f)):\n",
    "    # Get coordinates of intervertebral foramen\n",
    "    x = x_f[i]\n",
    "    y = y_f[i]\n",
    "    z = z_f[i]\n",
    "    # Get level\n",
    "    level = int(foramen_level.get_fdata()[x,y,z])\n",
    "    print('Level', level)\n",
    "    # Get correspondance of level number (2 --> C2, etc.)\n",
    "    seg = int2seg(level)\n",
    "    # Get mendez measures for the corresponding level\n",
    "    seg_df = df[df.Segment == seg]\n",
    "    RR = seg_df[seg_df.Mesure == \"IF to RR distance\"]\n",
    "    CR = seg_df[seg_df.Mesure == \"IF to CR distance\"]\n",
    "    W = seg_df.loc[seg_df.Mesure == \"Dorsal width\"].iloc[0]\n",
    "    w_mean = W.MEAN # get mean value of dorsal width\n",
    "    rr_mean = RR.MEAN.to_list()[0] # Get mean distance from rostral rootlet to interverteral foramen\n",
    "    cr_mean = CR.MEAN.to_list()[0] # Get mean distance from caudal rootlet to interverteral foramen\n",
    "    # Compute the 3D euclidean distance between intervertebral foramen and the back of the SC at dorsal width/2 lateral offset ( in mm)\n",
    "    new_x = (x_c - w_mean)[0] # x value centerline - dorsal width /2 offset\n",
    "    new_z = min(np.where(cord.get_fdata()[int(new_x),:,z] >0)[0]) # y value of the SC border at x = new_x and z = foramen\n",
    "    distance_foramen_ctl = np.sqrt((x_c - w_mean*2 - x)**2 + (new_z - y)**2  + (z_c - z)**2)*0.5  # 0.5 --> pix dim of PAM50 TODO: remove hardcode\n",
    "    # Get the closest distance to the rostral rootlet compared to the Mendez value\n",
    "    rostral_diff = np.array([np.abs(i - rr_mean) for i in distance_foramen_ctl])\n",
    "    # Only use slices higher than the foramen\n",
    "    rostral = np.argmin(rostral_diff[-len(z_c[z_c>z])-1::])\n",
    "    z_ref_r = z_ref[-len(z_c[z_c>z])-1::]\n",
    "    # Get the slice number (adjusted since the centerline starts at slice 55 not 0)\n",
    "    r_z = z_ref_r[rostral]\n",
    "\n",
    "    # Get the closest distance to the caudal rootlet compared to the Mendez value\n",
    "    caudal_diff = np.array([np.abs(i - cr_mean) for i in distance_foramen_ctl])\n",
    "    # Only use slices higher than the foramen\n",
    "    caudal = np.argmin(caudal_diff[-len(z_c[z_c>z])-1::])\n",
    "    # Get the slice number (adjusted since the centerline starts at slice 55 not 0)\n",
    "    c_z = z_ref_r[caudal]\n",
    "\n",
    "    print('Rostral', rr_mean, distance_foramen_ctl[-len(z_c[z_c>z])-1::][rostral], r_z, z)\n",
    "    print('Caudal', cr_mean, distance_foramen_ctl[-len(z_c[z_c>z])-1::][caudal], c_z, z)\n",
    "    # Set slices\n",
    "    len_level[level] = (r_z, c_z)\n"
   ]
  },
  {
   "cell_type": "code",
   "execution_count": 6,
   "id": "c43fc03e-12ae-4fda-95a3-544bc097166d",
   "metadata": {},
   "outputs": [],
   "source": [
    "cord_mask = np.copy(p50_mask)\n",
    "for lvl in len_level:\n",
    "    level_r = int(len_level[lvl][0])\n",
    "    level_c = int(len_level[lvl][1])\n",
    "    cord_mask[:, :, level_r][cord_mask[:, :, level_r]>0] = lvl\n",
    "    cord_mask[:, :, level_c][cord_mask[:, :, level_c]>0] = lvl\n",
    "cord_mask[:, :, :][cord_mask[:, :, :]==1] = 0\n",
    "test_img = nib.Nifti1Image(cord_mask, header=cord.header, affine=cord.affine)\n",
    "nib.save(test_img, f'test_theo_V4.nii.gz')  # TO CHANGE path output"
   ]
  }
 ],
 "metadata": {
  "kernelspec": {
   "display_name": "Python 3 (ipykernel)",
   "language": "python",
   "name": "python3"
  },
  "language_info": {
   "codemirror_mode": {
    "name": "ipython",
    "version": 3
   },
   "file_extension": ".py",
   "mimetype": "text/x-python",
   "name": "python",
   "nbconvert_exporter": "python",
   "pygments_lexer": "ipython3",
   "version": "3.8.15"
  }
 },
 "nbformat": 4,
 "nbformat_minor": 5
}

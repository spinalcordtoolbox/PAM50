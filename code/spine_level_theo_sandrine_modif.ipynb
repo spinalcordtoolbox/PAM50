{
 "cells": [
  {
   "cell_type": "code",
   "execution_count": 57,
   "id": "3c65eaa5-1b37-4317-9657-e52d4a8bc8a0",
   "metadata": {},
   "outputs": [
    {
     "name": "stdout",
     "output_type": "stream",
     "text": [
      "python version: 3.7.4 (default, Aug  9 2019, 18:34:13) [MSC v.1915 64 bit (AMD64)]\n",
      "numpy version: 1.16.5\n",
      "pandas version: 0.25.1\n",
      "nibabel version: 3.1.1\n"
     ]
    },
    {
     "data": {
      "text/html": [
       "<div>\n",
       "<style scoped>\n",
       "    .dataframe tbody tr th:only-of-type {\n",
       "        vertical-align: middle;\n",
       "    }\n",
       "\n",
       "    .dataframe tbody tr th {\n",
       "        vertical-align: top;\n",
       "    }\n",
       "\n",
       "    .dataframe thead th {\n",
       "        text-align: right;\n",
       "    }\n",
       "</style>\n",
       "<table border=\"1\" class=\"dataframe\">\n",
       "  <thead>\n",
       "    <tr style=\"text-align: right;\">\n",
       "      <th></th>\n",
       "      <th>Segment</th>\n",
       "      <th>MEAN</th>\n",
       "      <th>STD</th>\n",
       "      <th>Mesure</th>\n",
       "    </tr>\n",
       "  </thead>\n",
       "  <tbody>\n",
       "    <tr>\n",
       "      <td>0</td>\n",
       "      <td>C2</td>\n",
       "      <td>11.3</td>\n",
       "      <td>1.5</td>\n",
       "      <td>DREZ length</td>\n",
       "    </tr>\n",
       "    <tr>\n",
       "      <td>1</td>\n",
       "      <td>C2</td>\n",
       "      <td>12.6</td>\n",
       "      <td>0.9</td>\n",
       "      <td>Seg.L at dorsal CE</td>\n",
       "    </tr>\n",
       "    <tr>\n",
       "      <td>2</td>\n",
       "      <td>C2</td>\n",
       "      <td>13.1</td>\n",
       "      <td>1.0</td>\n",
       "      <td>Seg.L at BE</td>\n",
       "    </tr>\n",
       "    <tr>\n",
       "      <td>3</td>\n",
       "      <td>C2</td>\n",
       "      <td>24.4</td>\n",
       "      <td>0.8</td>\n",
       "      <td>Inf.Art facet to CR distance</td>\n",
       "    </tr>\n",
       "    <tr>\n",
       "      <td>4</td>\n",
       "      <td>C2</td>\n",
       "      <td>15.5</td>\n",
       "      <td>4.2</td>\n",
       "      <td>IF to RR distance</td>\n",
       "    </tr>\n",
       "  </tbody>\n",
       "</table>\n",
       "</div>"
      ],
      "text/plain": [
       "  Segment  MEAN  STD                        Mesure\n",
       "0      C2  11.3  1.5                   DREZ length\n",
       "1      C2  12.6  0.9            Seg.L at dorsal CE\n",
       "2      C2  13.1  1.0                   Seg.L at BE\n",
       "3      C2  24.4  0.8  Inf.Art facet to CR distance\n",
       "4      C2  15.5  4.2             IF to RR distance"
      ]
     },
     "execution_count": 57,
     "metadata": {},
     "output_type": "execute_result"
    }
   ],
   "source": [
    "import numpy as np\n",
    "import pandas as pd\n",
    "import nibabel as nib\n",
    "import matplotlib.pyplot as plt\n",
    "import scipy\n",
    "import math\n",
    "import os\n",
    "import sys\n",
    "print(f'python version: {sys.version}')\n",
    "print(f'numpy version: {np.__version__}')\n",
    "print(f'pandas version: {pd.__version__}')\n",
    "print(f'nibabel version: {nib.__version__}')\n",
    "\n",
    "\n",
    "NEAR_ZERO_THRESHOLD = 1e-6\n",
    "def int2seg(intensity):\n",
    "    if intensity <= 7:\n",
    "        return f\"C{intensity}\"\n",
    "    elif intensity >7 and intensity <= 19:\n",
    "        return f\"T{intensity-7}\"\n",
    "    else:\n",
    "        return f\"L{intensity-19}\"\n",
    "    \n",
    "df = pd.read_csv(\"mendez_df.csv\")\n",
    "df.head()"
   ]
  },
  {
   "cell_type": "code",
   "execution_count": 58,
   "id": "21021ea9-ec84-4b84-b534-3012a4681a78",
   "metadata": {},
   "outputs": [
    {
     "name": "stdout",
     "output_type": "stream",
     "text": [
      "c:/Users/sb199/spinalcordtoolbox/data/PAM50/template/\n"
     ]
    }
   ],
   "source": [
    "sct_dir = 'c:/Users/sb199/spinalcordtoolbox/data/PAM50/template/'\n",
    "print(sct_dir)"
   ]
  },
  {
   "cell_type": "code",
   "execution_count": 59,
   "id": "88c33b8a-3ac6-4275-b939-376d3e2859a7",
   "metadata": {},
   "outputs": [
    {
     "name": "stdout",
     "output_type": "stream",
     "text": [
      "[37 40 41 41 42 42 42 42] [932 731 691 898 765 797 830 865]\n"
     ]
    }
   ],
   "source": [
    "# Import foramen data\n",
    "#foramen_level = nib.load('PAM50_intervertebral_foramen_sandrine.nii.gz') # TODO add path\n",
    "foramen_level = nib.load('test_foramen.nii.gz')\n",
    "\n",
    "x_f,y_f,z_f = np.where(foramen_level.get_fdata()>NEAR_ZERO_THRESHOLD)\n",
    "print(x_f, z_f)"
   ]
  },
  {
   "cell_type": "code",
   "execution_count": 107,
   "id": "97dfb430-080d-4421-8067-aae2c2755cfd",
   "metadata": {},
   "outputs": [],
   "source": [
    "# Import Centerline data\n",
    "center = nib.load(os.path.join(sct_dir, 'PAM50_centerline.nii.gz'))\n",
    "x_c, y_c, z_c = np.where(center.get_fdata() > NEAR_ZERO_THRESHOLD)\n",
    "coord_ctl = np.asarray(np.where(center.get_fdata() > NEAR_ZERO_THRESHOLD)).T\n",
    "# Sort following z index\n",
    "coord_ctl = coord_ctl[coord_ctl[:, 2].argsort(), :].T\n",
    "x_c = coord_ctl[0]\n",
    "y_c = coord_ctl[1]\n",
    "z_c = coord_ctl[2]\n",
    "# Import Cord data\n",
    "PATH = os.path.join(sct_dir, 'PAM50_cord.nii.gz')\n",
    "cord = nib.load(PATH)\n",
    "p50_mask = cord.get_fdata()\n",
    "x_cord, y_cord, z_cord = np.where(p50_mask>0)"
   ]
  },
  {
   "cell_type": "code",
   "execution_count": 113,
   "id": "d814fd9b",
   "metadata": {},
   "outputs": [
    {
     "name": "stdout",
     "output_type": "stream",
     "text": [
      "Level 2\n",
      "Rostral 15.5 15.459741265622785 950 932\n",
      "Caudal 10.6 12.599746029186461 932 932\n",
      "Level 8\n",
      "Rostral 28.1 28.293815578673726 780 731\n",
      "Caudal 17.0 17.045233937966355 750 731\n",
      "Level 9\n",
      "Rostral 33.4 33.2575438810505 752 691\n",
      "Caudal 22.0 22.086516814563584 726 691\n",
      "Level 3\n",
      "Rostral 16.299999999999994 16.295032985545014 913 898\n",
      "Caudal 10.8 14.466447386970998 898 898\n",
      "Level 7\n",
      "Rostral 20.1 19.946117416680373 794 765\n",
      "Caudal 11.8 13.696627322081888 765 765\n",
      "Level 6\n",
      "Rostral 17.2 17.072202552687802 817 797\n",
      "Caudal 10.3 13.5170299992269 797 797\n",
      "Level 5\n",
      "Rostral 15.1 15.0365562879271 842 830\n",
      "Caudal 9.3 13.787604034059 830 830\n",
      "Level 4\n",
      "Rostral 18.1 17.954053163561703 888 865\n",
      "Caudal 10.1 13.787604034059 865 865\n"
     ]
    }
   ],
   "source": [
    "# Take smallest distance bewtenn SC centerline (shifted by average diameter at dorsal rootlet entry and intervertebral foramen) (Sandrine)\n",
    "\n",
    "len_level = {}\n",
    "\n",
    "for i in range(len(x_f)):\n",
    "    # Get coordinates of intervertebral foramen\n",
    "    x = x_f[i]\n",
    "    y = y_f[i]\n",
    "    z = z_f[i]\n",
    "    # Get level\n",
    "    level = int(foramen_level.get_fdata()[x,y,z])\n",
    "    print('Level', level)\n",
    "    # Get correspondance of level number (2 --> C2, etc.)\n",
    "    seg = int2seg(level)\n",
    "    # Get mendez measures for the corresponding level\n",
    "    seg_df = df[df.Segment == seg]\n",
    "    RR = seg_df[seg_df.Mesure == \"IF to RR distance\"]\n",
    "    CR = seg_df[seg_df.Mesure == \"IF to CR distance\"]\n",
    "    W = seg_df.loc[seg_df.Mesure == \"Dorsal width\"].iloc[0]\n",
    "    w_mean = W.MEAN # get mean value of dorsal width\n",
    "    rr_mean = RR.MEAN.to_list()[0] # Get mean distance from rostral rootlet to interverteral foramen\n",
    "    cr_mean = CR.MEAN.to_list()[0] # Get mean distance from caudal rootlet to interverteral foramen\n",
    "    # Compute the 3D euclidean distance between intervertebral foramen and the entire centerline ( in mm)\n",
    "    distance_foramen_ctl = np.sqrt((x_c - w_mean - x)**2 + (y_c - y)**2  + (z_c - z)**2)*0.5  # 0.5 --> pix dim of PAM50 TODO: remove hardcode\n",
    "\n",
    "    # Get the closest distance to the rostral rootlet compared to the Mendez value\n",
    "    rostral_diff = np.array([np.abs(i - rr_mean) for i in distance_foramen_ctl])\n",
    "    # Only use slices higher than the foramen\n",
    "    rostral = np.argmin(rostral_diff[-len(z_c[z_c>z])-1::])\n",
    "    z_ref = z_c[-len(z_c[z_c>z])-1::]\n",
    "    # Get the slice number (adjusted since the centerline starts at slice 55 not 0)\n",
    "    r_z = z_ref[rostral]\n",
    "\n",
    "    # Get the closest distance to the caudal rootlet compared to the Mendez value\n",
    "    caudal_diff = np.array([np.abs(i - cr_mean) for i in distance_foramen_ctl])\n",
    "    # Only use slices higher than the foramen\n",
    "    caudal = np.argmin(caudal_diff[-len(z_c[z_c>z])-1::])\n",
    "    # Get the slice number (adjusted since the centerline starts at slice 55 not 0)\n",
    "    c_z = z_ref[caudal]\n",
    "\n",
    "    print('Rostral', rr_mean, distance_foramen_ctl[-len(z_c[z_c>z])-1::][rostral], r_z, z)\n",
    "    print('Caudal', cr_mean, distance_foramen_ctl[-len(z_c[z_c>z])-1::][caudal], c_z, z)\n",
    "    # Set slices\n",
    "    len_level[level] = (r_z, c_z)\n"
   ]
  },
  {
   "cell_type": "code",
   "execution_count": 62,
   "id": "c3d6d3e4-a5c9-492f-a113-9fc8245d9eab",
   "metadata": {},
   "outputs": [],
   "source": [
    "# # Test triangle (Théo)\n",
    "# len_level = {}\n",
    "# for i in range(len(x_f)):\n",
    "#     x = x_f[i]\n",
    "#     y = y_f[i]\n",
    "#     z = z_f[i]\n",
    "#     intensity = int(foramen_level.get_fdata()[x,y,z])\n",
    "#     print('Level', intensity)\n",
    "#     seg = int2seg(intensity)\n",
    "#     seg_df = df[df.Segment == seg]\n",
    "#     RR = seg_df[seg_df.Mesure == \"IF to RR distance\"]\n",
    "#     CR = seg_df[seg_df.Mesure == \"IF to CR distance\"]\n",
    "\n",
    "#     center_val = np.where(z_c == z)\n",
    "\n",
    "#     try :\n",
    "#         x_y_c = [x_c[center_val][0], y_c[center_val][0]]\n",
    "#     except:\n",
    "#         x_y_c = [70, 70]\n",
    "#     dist_c = np.sqrt(((x-x_y_c[0])**2 + (y-x_y_c[1])**2))\n",
    "\n",
    "#    # dist_c = math.dist([x,y], x_y_c)\n",
    "#     # Because we take the centerline for some case, no estimation based on a triangle can be made, so let the estimation at 0.\n",
    "#     try:\n",
    "#         len_RR = math.sqrt((RR.MEAN*2)**2 - dist_c**2)\n",
    "#     except :\n",
    "#         len_RR = 0\n",
    "#     try:\n",
    "#         len_CR = math.sqrt((CR.MEAN*2)**2 - dist_c**2)\n",
    "#     except:\n",
    "#         len_CR = 0\n",
    "#     len_level[intensity] = (z+len_RR, z+len_CR)\n",
    "#     print('R:', z+len_RR, z)\n",
    "#     print('C:', z+len_CR, z)"
   ]
  },
  {
   "cell_type": "code",
   "execution_count": null,
   "id": "7b2e2ba4-b1e2-440b-be50-8fea09504715",
   "metadata": {},
   "outputs": [],
   "source": []
  },
  {
   "cell_type": "code",
   "execution_count": 110,
   "id": "c43fc03e-12ae-4fda-95a3-544bc097166d",
   "metadata": {},
   "outputs": [],
   "source": [
    "cord_mask = np.copy(p50_mask)\n",
    "for lvl in len_level:\n",
    "    level_r = int(len_level[lvl][0])\n",
    "    level_c = int(len_level[lvl][1])\n",
    "    cord_mask[:, :, level_r][cord_mask[:, :, level_r]>0] = lvl\n",
    "    cord_mask[:, :, level_c][cord_mask[:, :, level_c]>0] = lvl\n",
    "cord_mask[:, :, :][cord_mask[:, :, :]==1] = 0\n",
    "test_img = nib.Nifti1Image(cord_mask, header=cord.header, affine=cord.affine)\n",
    "nib.save(test_img, f'test_sb_v3.nii.gz')  # TO CHANGE path output"
   ]
  },
  {
   "cell_type": "code",
   "execution_count": null,
   "id": "b9e2ec4c-1b3b-42a1-b323-72e7863cca06",
   "metadata": {},
   "outputs": [],
   "source": []
  },
  {
   "cell_type": "code",
   "execution_count": null,
   "id": "d83dd5c7-281c-4919-8e53-ebb01b089a92",
   "metadata": {},
   "outputs": [],
   "source": []
  }
 ],
 "metadata": {
  "kernelspec": {
   "display_name": "Python 3 (ipykernel)",
   "language": "python",
   "name": "python3"
  },
  "language_info": {
   "codemirror_mode": {
    "name": "ipython",
    "version": 3
   },
   "file_extension": ".py",
   "mimetype": "text/x-python",
   "name": "python",
   "nbconvert_exporter": "python",
   "pygments_lexer": "ipython3",
   "version": "3.11.0"
  }
 },
 "nbformat": 4,
 "nbformat_minor": 5
}

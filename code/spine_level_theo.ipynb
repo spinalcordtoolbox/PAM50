{
 "cells": [
  {
   "cell_type": "code",
   "execution_count": 1,
   "id": "3c65eaa5-1b37-4317-9657-e52d4a8bc8a0",
   "metadata": {},
   "outputs": [
    {
     "name": "stdout",
     "output_type": "stream",
     "text": [
      "python version: 3.8.15 | packaged by conda-forge | (default, Nov 22 2022, 08:49:06) \n",
      "[Clang 14.0.6 ]\n",
      "numpy version: 1.23.5\n",
      "pandas version: 1.5.3\n",
      "nibabel version: 5.1.0\n"
     ]
    },
    {
     "data": {
      "text/html": [
       "<div>\n",
       "<style scoped>\n",
       "    .dataframe tbody tr th:only-of-type {\n",
       "        vertical-align: middle;\n",
       "    }\n",
       "\n",
       "    .dataframe tbody tr th {\n",
       "        vertical-align: top;\n",
       "    }\n",
       "\n",
       "    .dataframe thead th {\n",
       "        text-align: right;\n",
       "    }\n",
       "</style>\n",
       "<table border=\"1\" class=\"dataframe\">\n",
       "  <thead>\n",
       "    <tr style=\"text-align: right;\">\n",
       "      <th></th>\n",
       "      <th>Segment</th>\n",
       "      <th>MEAN</th>\n",
       "      <th>STD</th>\n",
       "      <th>Mesure</th>\n",
       "    </tr>\n",
       "  </thead>\n",
       "  <tbody>\n",
       "    <tr>\n",
       "      <th>0</th>\n",
       "      <td>C2</td>\n",
       "      <td>11.3</td>\n",
       "      <td>1.5</td>\n",
       "      <td>DREZ length</td>\n",
       "    </tr>\n",
       "    <tr>\n",
       "      <th>1</th>\n",
       "      <td>C2</td>\n",
       "      <td>12.6</td>\n",
       "      <td>0.9</td>\n",
       "      <td>Seg.L at dorsal CE</td>\n",
       "    </tr>\n",
       "    <tr>\n",
       "      <th>2</th>\n",
       "      <td>C2</td>\n",
       "      <td>13.1</td>\n",
       "      <td>1.0</td>\n",
       "      <td>Seg.L at BE</td>\n",
       "    </tr>\n",
       "    <tr>\n",
       "      <th>3</th>\n",
       "      <td>C2</td>\n",
       "      <td>24.4</td>\n",
       "      <td>0.8</td>\n",
       "      <td>Inf.Art facet to CR distance</td>\n",
       "    </tr>\n",
       "    <tr>\n",
       "      <th>4</th>\n",
       "      <td>C2</td>\n",
       "      <td>15.5</td>\n",
       "      <td>4.2</td>\n",
       "      <td>IF to RR distance</td>\n",
       "    </tr>\n",
       "  </tbody>\n",
       "</table>\n",
       "</div>"
      ],
      "text/plain": [
       "  Segment  MEAN  STD                        Mesure\n",
       "0      C2  11.3  1.5                   DREZ length\n",
       "1      C2  12.6  0.9            Seg.L at dorsal CE\n",
       "2      C2  13.1  1.0                   Seg.L at BE\n",
       "3      C2  24.4  0.8  Inf.Art facet to CR distance\n",
       "4      C2  15.5  4.2             IF to RR distance"
      ]
     },
     "execution_count": 1,
     "metadata": {},
     "output_type": "execute_result"
    }
   ],
   "source": [
    "import numpy as np\n",
    "import pandas as pd\n",
    "import nibabel as nib\n",
    "import matplotlib.pyplot as plt\n",
    "import math\n",
    "import sys\n",
    "print(f'python version: {sys.version}')\n",
    "print(f'numpy version: {np.__version__}')\n",
    "print(f'pandas version: {pd.__version__}')\n",
    "print(f'nibabel version: {nib.__version__}')\n",
    "\n",
    "def int2seg(intensity):\n",
    "    if intensity <= 7:\n",
    "        return f\"C{intensity}\"\n",
    "    elif intensity >7 and intensity <= 19:\n",
    "        return f\"T{intensity-7}\"\n",
    "    else:\n",
    "        return f\"L{intensity-19}\"\n",
    "    \n",
    "df = pd.read_pickle(\"mendez_df\")\n",
    "df.head()"
   ]
  },
  {
   "cell_type": "code",
   "execution_count": 2,
   "id": "21021ea9-ec84-4b84-b534-3012a4681a78",
   "metadata": {},
   "outputs": [],
   "source": [
    "PATH = \"../Code/spinalcordtoolbox/data/PAM50/template/\""
   ]
  },
  {
   "cell_type": "code",
   "execution_count": 3,
   "id": "88c33b8a-3ac6-4275-b939-376d3e2859a7",
   "metadata": {},
   "outputs": [
    {
     "name": "stdout",
     "output_type": "stream",
     "text": [
      "[932 731 691 898 765 797 830 865]\n"
     ]
    }
   ],
   "source": [
    "# Import foramen data\n",
    "foramen_level = nib.load('test_foramen.nii.gz')\n",
    "x_f,y_f,z_f = np.where(foramen_level.get_fdata()>0)\n",
    "print(z_f)"
   ]
  },
  {
   "cell_type": "code",
   "execution_count": 4,
   "id": "97dfb430-080d-4421-8067-aae2c2755cfd",
   "metadata": {},
   "outputs": [],
   "source": [
    "# Import Centerline data\n",
    "center = nib.load(f'{PATH}PAM50_centerline.nii.gz')\n",
    "x_c, y_c, z_c = np.where(center.get_fdata()>0)"
   ]
  },
  {
   "cell_type": "code",
   "execution_count": 5,
   "id": "c3d6d3e4-a5c9-492f-a113-9fc8245d9eab",
   "metadata": {},
   "outputs": [],
   "source": [
    "# Test triangle\n",
    "len_level = {}\n",
    "for i in range(len(x_f)):\n",
    "    x = x_f[i]\n",
    "    y = y_f[i]\n",
    "    z = z_f[i]\n",
    "    intensity = int(foramen_level.get_fdata()[x,y,z])\n",
    "    seg = int2seg(intensity)\n",
    "    seg_df = df[df.Segment == seg]\n",
    "    RR = seg_df[seg_df.Mesure == \"IF to RR distance\"]\n",
    "    CR = seg_df[seg_df.Mesure == \"IF to CR distance\"]\n",
    "    center_val = np.where(z_c == z)\n",
    "    try :\n",
    "        x_y_c = [x_c[center_val][0], y_c[center_val][0]]\n",
    "    except:\n",
    "        x_y_c = [70, 70]\n",
    "    dist_c = math.dist([x,y], x_y_c)\n",
    "    # Because we take the centerline for some case, no estimation based on a triangle can be made, so let the estimation at 0.\n",
    "    try:\n",
    "        len_RR = math.sqrt((RR.MEAN*2)**2 - dist_c**2)\n",
    "    except :\n",
    "        len_RR = 0\n",
    "    try:\n",
    "        len_CR = math.sqrt((CR.MEAN*2)**2 - dist_c**2)\n",
    "    except:\n",
    "        len_CR = 0\n",
    "    \n",
    "    len_level[intensity] = (z-len_RR, z-len_CR)"
   ]
  },
  {
   "cell_type": "code",
   "execution_count": 6,
   "id": "7b2e2ba4-b1e2-440b-be50-8fea09504715",
   "metadata": {},
   "outputs": [
    {
     "data": {
      "text/plain": [
       "(141, 141, 991)"
      ]
     },
     "execution_count": 6,
     "metadata": {},
     "output_type": "execute_result"
    }
   ],
   "source": [
    "# Import Cord data\n",
    "PATH = f'{PATH}PAM50_cord.nii.gz'\n",
    "cord = nib.load(PATH)\n",
    "p50_mask = cord.get_fdata()\n",
    "p50_mask.shape"
   ]
  },
  {
   "cell_type": "code",
   "execution_count": 7,
   "id": "c43fc03e-12ae-4fda-95a3-544bc097166d",
   "metadata": {},
   "outputs": [],
   "source": [
    "cord_mask = np.copy(p50_mask)\n",
    "for lvl in len_level:\n",
    "    level_r = int(len_level[lvl][0])\n",
    "    level_c = int(len_level[lvl][1])\n",
    "    cord_mask[:, :, level_r][cord_mask[:, :, level_r]>0] = lvl\n",
    "    cord_mask[:, :, level_c][cord_mask[:, :, level_c]>0] = lvl\n",
    "cord_mask[:, :, :][cord_mask[:, :, :]==1] = 0\n",
    "test_img = nib.Nifti1Image(cord_mask, header=cord.header, affine=cord.affine)\n",
    "nib.save(test_img, f'test.nii.gz')  # TO CHANGE path output"
   ]
  },
  {
   "cell_type": "code",
   "execution_count": 8,
   "id": "b9e2ec4c-1b3b-42a1-b323-72e7863cca06",
   "metadata": {},
   "outputs": [],
   "source": [
    "## No estimation possible for C2/C3, C4 rostral, C5 rostral ..."
   ]
  },
  {
   "cell_type": "code",
   "execution_count": null,
   "id": "d83dd5c7-281c-4919-8e53-ebb01b089a92",
   "metadata": {},
   "outputs": [],
   "source": []
  }
 ],
 "metadata": {
  "kernelspec": {
   "display_name": "Python 3 (ipykernel)",
   "language": "python",
   "name": "python3"
  },
  "language_info": {
   "codemirror_mode": {
    "name": "ipython",
    "version": 3
   },
   "file_extension": ".py",
   "mimetype": "text/x-python",
   "name": "python",
   "nbconvert_exporter": "python",
   "pygments_lexer": "ipython3",
   "version": "3.8.15"
  }
 },
 "nbformat": 4,
 "nbformat_minor": 5
}
